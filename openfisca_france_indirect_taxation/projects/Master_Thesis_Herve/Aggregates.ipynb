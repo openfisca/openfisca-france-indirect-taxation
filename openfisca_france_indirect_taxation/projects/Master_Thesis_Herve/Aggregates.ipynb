{
 "cells": [
  {
   "cell_type": "code",
   "execution_count": null,
   "metadata": {},
   "outputs": [],
   "source": [
    "def collapse_sum(dataframe, groupe, var):\n",
    "    '''\n",
    "    Pour une variable, fonction qui calcule la somme pondérée au sein de chaque groupe.\n",
    "    '''\n",
    "    grouped = dataframe.groupby([groupe])\n",
    "    var_weighted_grouped = grouped.apply(lambda x: wsum(groupe = x, var = var))\n",
    "    return var_weighted_grouped\n",
    "\n",
    "def wsum(groupe, var):\n",
    "    '''\n",
    "    Fonction qui calcule la somme pondérée par groupe d'une variable\n",
    "    '''\n",
    "    d = groupe[var]\n",
    "    w = groupe['pondmen']\n",
    "    return (d * w).sum()\n",
    "\n",
    "def df_weighted_sum_grouped(dataframe, groupe, varlist):\n",
    "    '''\n",
    "    Agrège les résultats de weighted_average_grouped() en une unique dataframe pour la liste de variable 'varlist'.\n",
    "    '''\n",
    "    return pd.DataFrame(\n",
    "        dict([\n",
    "            (var, collapse_sum(dataframe, groupe, var)) for var in varlist\n",
    "            ])\n",
    "        )"
   ]
  },
  {
   "cell_type": "code",
   "execution_count": null,
   "metadata": {},
   "outputs": [],
   "source": [
    "var_to_graph = list(menages_reform.columns)\n",
    "var_to_graph.remove('ref_elasticity')\n",
    "by_decile = df_weighted_sum_grouped(menages_reform,'niveau_vie_decile',var_to_graph)\n",
    "by_decile.reindex(columns=['bonus_cheques_energie_uc',\n",
    "                           'bonus_cheques_energie_menage',\n",
    "                           'contributions_reforme',\n",
    "                           'ticpe_totale',\n",
    "                           'ticpe_totale_carbon_tax_rv',\n",
    "                           'rev_disponible',\n",
    "                           'pondmen',\n",
    "                           'ocde10'])"
   ]
  },
  {
   "cell_type": "code",
   "execution_count": null,
   "metadata": {},
   "outputs": [],
   "source": [
    "df_sum.drop('pondmen', axis = 1, inplace = True)\n",
    "df_sum.reindex(columns=['bonus_cheques_energie_uc',\n",
    "                        'bonus_cheques_energie_menage',\n",
    "                        'contributions_reforme',\n",
    "                        'ticpe_totale',\n",
    "                        'ticpe_totale_carbon_tax_rv',\n",
    "                        'rev_disponible']).head(10)"
   ]
  },
  {
   "cell_type": "code",
   "execution_count": null,
   "metadata": {},
   "outputs": [],
   "source": [
    "pd.read_csv('C:/Users/veve1/OneDrive/Documents/ENSAE 3A/Memoire MiE/openfisca-france-indirect-taxation/openfisca_france_indirect_taxation/assets/masses_cibles.csv', sep = \";\")"
   ]
  },
  {
   "cell_type": "code",
   "execution_count": null,
   "metadata": {},
   "outputs": [],
   "source": [
    "ticpe_tot_reform = df_sum[df_sum['ref_elasticity']== 'Berry (2019)']['ticpe_totale_carbon_tax_rv'].sum()\n",
    "ticpe_tot = df_sum[df_sum['ref_elasticity']== 'Berry (2019)']['ticpe_totale'].sum()\n",
    "variation = 100*(ticpe_tot_reform/ticpe_tot - 1)\n",
    "variation"
   ]
  },
  {
   "cell_type": "code",
   "execution_count": null,
   "metadata": {},
   "outputs": [],
   "source": [
    "(17.0/13.2 - 1)*100"
   ]
  },
  {
   "cell_type": "markdown",
   "metadata": {},
   "source": [
    "sans réforme : 18 560 303 154.98755 /// \n",
    "avec réforme : 19 533 882 908.784966 (Adam et al 2023)"
   ]
  }
 ],
 "metadata": {
  "language_info": {
   "name": "python"
  },
  "orig_nbformat": 4
 },
 "nbformat": 4,
 "nbformat_minor": 2
}
